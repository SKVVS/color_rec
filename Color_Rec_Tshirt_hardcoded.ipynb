{
 "cells": [
  {
   "cell_type": "code",
   "execution_count": null,
   "metadata": {},
   "outputs": [],
   "source": [
    "#pip install dependencies accordingly\n",
    "\n",
    "#pip install opencv-python"
   ]
  },
  {
   "cell_type": "code",
   "execution_count": null,
   "metadata": {},
   "outputs": [],
   "source": [
    "# import the necessary packages\n",
    "import numpy as np\n",
    "import cv2\n",
    "from matplotlib import pyplot as plt\n",
    "\n",
    "#load image\n",
    "imageloc='~/imgTshirts.jpg'\n",
    "image=cv2.imread(imageloc)"
   ]
  },
  {
   "cell_type": "code",
   "execution_count": null,
   "metadata": {},
   "outputs": [],
   "source": [
    "#red\n",
    "#BGR\n",
    "lower=[35, 15, 185]\n",
    "upper=[60, 60, 255]\n",
    "lower = np.array(lower, dtype = \"uint8\")\n",
    "upper = np.array(upper, dtype = \"uint8\")\n",
    "mask = cv2.inRange(image, lower, upper)\n",
    "output = cv2.bitwise_and(image, image, mask = mask)\n",
    "cv2.imshow(\"detec\", np.hstack([image, output]))\n",
    "cv2.waitKey(0)\n",
    "cv2.destroyAllWindows()"
   ]
  },
  {
   "cell_type": "code",
   "execution_count": null,
   "metadata": {},
   "outputs": [],
   "source": [
    "#green\n",
    "#BGR\n",
    "lower=[0, 120, 0]\n",
    "upper=[120, 255, 60]\n",
    "lower = np.array(lower, dtype = \"uint8\")\n",
    "upper = np.array(upper, dtype = \"uint8\")\n",
    "mask = cv2.inRange(image, lower, upper)\n",
    "output = cv2.bitwise_and(image, image, mask = mask)\n",
    "cv2.imshow(\"detec\", np.hstack([image, output]))\n",
    "cv2.waitKey(0)\n",
    "cv2.destroyAllWindows()"
   ]
  },
  {
   "cell_type": "code",
   "execution_count": null,
   "metadata": {},
   "outputs": [],
   "source": [
    "#orange\n",
    "#BGR\n",
    "lower=[60, 110, 210]\n",
    "upper=[112, 180, 255]\n",
    "lower = np.array(lower, dtype = \"uint8\")\n",
    "upper = np.array(upper, dtype = \"uint8\")\n",
    "mask = cv2.inRange(image, lower, upper)\n",
    "output = cv2.bitwise_and(image, image, mask = mask)\n",
    "cv2.imshow(\"detec\", np.hstack([image, output]))\n",
    "cv2.waitKey(0)\n",
    "cv2.destroyAllWindows()"
   ]
  },
  {
   "cell_type": "code",
   "execution_count": null,
   "metadata": {},
   "outputs": [],
   "source": [
    "#purple\n",
    "#BGR\n",
    "lower=[120, 0, 80]\n",
    "upper=[240, 70, 170]\n",
    "lower = np.array(lower, dtype = \"uint8\")\n",
    "upper = np.array(upper, dtype = \"uint8\")\n",
    "mask = cv2.inRange(image, lower, upper)\n",
    "output = cv2.bitwise_and(image, image, mask = mask)\n",
    "cv2.imshow(\"detec\", np.hstack([image, output]))\n",
    "cv2.waitKey(0)\n",
    "cv2.destroyAllWindows()"
   ]
  },
  {
   "cell_type": "code",
   "execution_count": null,
   "metadata": {},
   "outputs": [],
   "source": [
    "#yellow\n",
    "#BGR\n",
    "lower=[0, 230, 220]\n",
    "upper=[110, 255, 253]\n",
    "lower = np.array(lower, dtype = \"uint8\")\n",
    "upper = np.array(upper, dtype = \"uint8\")\n",
    "mask = cv2.inRange(image, lower, upper)\n",
    "output = cv2.bitwise_and(image, image, mask = mask)\n",
    "cv2.imshow(\"detec\", np.hstack([image, output]))\n",
    "cv2.waitKey(0)\n",
    "cv2.destroyAllWindows()"
   ]
  }
 ],
 "metadata": {
  "kernelspec": {
   "display_name": "Python 3",
   "language": "python",
   "name": "python3"
  },
  "language_info": {
   "codemirror_mode": {
    "name": "ipython",
    "version": 3
   },
   "file_extension": ".py",
   "mimetype": "text/x-python",
   "name": "python",
   "nbconvert_exporter": "python",
   "pygments_lexer": "ipython3",
   "version": "3.7.3"
  }
 },
 "nbformat": 4,
 "nbformat_minor": 2
}
